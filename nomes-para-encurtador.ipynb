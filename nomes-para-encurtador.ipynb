{
 "cells": [
  {
   "cell_type": "markdown",
   "id": "a1f062b6-0ffb-4fb3-a3b2-8f6e00ce2673",
   "metadata": {},
   "source": [
    "# Seleção de nomes para testes de encurtador\n",
    "\n",
    "Nomes para testar uma função encurtadora de nomes para cartão de crédito."
   ]
  },
  {
   "cell_type": "code",
   "execution_count": 1,
   "id": "a405e8f9-31ee-4107-a617-238e26f558bb",
   "metadata": {},
   "outputs": [
    {
     "name": "stdout",
     "output_type": "stream",
     "text": [
      "1000000 linhas lidas\n"
     ]
    }
   ],
   "source": [
    "MAX_LEN = 26  # número máximo de caracteres para gravar no cartão\n",
    "\n",
    "with open('saida-p.txt') as fp:\n",
    "    linhas = fp.readlines()\n",
    "\n",
    "print(len(linhas), 'linhas lidas')"
   ]
  },
  {
   "cell_type": "code",
   "execution_count": 2,
   "id": "0d8e17e7-c5f3-4e2f-8a6d-37ac1252b3e4",
   "metadata": {},
   "outputs": [
    {
     "name": "stdout",
     "output_type": "stream",
     "text": [
      "1000000 linhas ASCII\n"
     ]
    }
   ],
   "source": [
    "linhas = [l.strip().upper() for l in linhas if l.isascii()]\n",
    "print(len(linhas), 'linhas ASCII')"
   ]
  },
  {
   "cell_type": "code",
   "execution_count": 3,
   "id": "18aecc08-af2c-434d-806b-df37ab08a3bb",
   "metadata": {},
   "outputs": [],
   "source": [
    "for nome in linhas[:100]:\n",
    "    if len(nome) > 26 and nome.startswith('MARIA '):\n",
    "        print(len(nome), nome)"
   ]
  },
  {
   "cell_type": "code",
   "execution_count": 4,
   "id": "136c54e2-91b5-4a58-9083-281ab6b60f98",
   "metadata": {},
   "outputs": [
    {
     "name": "stdout",
     "output_type": "stream",
     "text": [
      "32 ALINE DEBORTOLINI BUENO FERREIRA\n",
      "29 PAULO VICTOR ESTEVAM DA COSTA\n",
      "28 MARINA COSTA DA SILVA MULERO\n",
      "28 GRETA SANTANA E R DE ALMEIDA\n",
      "30 LUIS ALEXANDRE XAVIER DA ROCHA\n",
      "27 JANAINE ALESSANDRO GAMBARDE\n",
      "27 KAMILLA CHRISTINA FERNANDES\n",
      "35 LILIAN HENRIQUE DA SILVA CAPINZAIKI\n",
      "40 SAMANTHA HELENA DO NASCIMENTO FLORENCINI\n",
      "28 DANILO HECTOR PROSPERI BUTTI\n",
      "27 RODRIGO OLIVEIRA DOS SANTOS\n",
      "28 GABRIELA APARECIDO DE BARROS\n",
      "35 JOYCE IZABEL C L DE FREITAS AZEVEDO\n",
      "36 TASSIA PENNA CAROLINA DE VASCONCELOS\n",
      "36 GUILHERME GIOHJI HOSHINORI MAGALHAES\n",
      "30 JOCILIA CAROLINA CASTRO SANTOS\n",
      "32 ADRIANA VILACA CARNEIRO DO RAMOS\n",
      "32 VIVIANE MARLA BARBOSA DOS SANTOS\n",
      "47 GUSTAVO HENRIQUE MENDONCA DIAS LOPES REIS VARIZ\n",
      "32 ROGERIO COSTA GONCALVES DA SILVA\n",
      "31 MARCOS MENDES RAMOS GUADAGNUCCI\n",
      "47 DALBER ROSA RIBEIRO DA SILVA DA SILVA GIRASOLIN\n"
     ]
    }
   ],
   "source": [
    "for nome in (l for l in linhas[:100] if len(l) > 26):\n",
    "    if \"JUNIOR\" not in nome and \"MARIA\" not in nome:\n",
    "        print(len(nome), nome)"
   ]
  },
  {
   "cell_type": "code",
   "execution_count": 5,
   "id": "17782895-45bf-4020-a7cd-b77c30cf7a99",
   "metadata": {},
   "outputs": [
    {
     "data": {
      "text/plain": [
       "25"
      ]
     },
     "execution_count": 5,
     "metadata": {},
     "output_type": "execute_result"
    }
   ],
   "source": [
    "len('DAVID DE MENDES BOLOGNESI')"
   ]
  },
  {
   "cell_type": "code",
   "execution_count": 6,
   "id": "4b064ea6-eeb0-4fab-bb84-35adddaa11e5",
   "metadata": {},
   "outputs": [
    {
     "data": {
      "text/plain": [
       "24"
      ]
     },
     "execution_count": 6,
     "metadata": {},
     "output_type": "execute_result"
    }
   ],
   "source": [
    "len('VICTOR SIVIERO BOMFIM JR')"
   ]
  },
  {
   "cell_type": "code",
   "execution_count": 7,
   "id": "6c672d07-8a16-4cd3-94c4-a742d2c5f0ab",
   "metadata": {},
   "outputs": [
    {
     "data": {
      "text/plain": [
       "25"
      ]
     },
     "execution_count": 7,
     "metadata": {},
     "output_type": "execute_result"
    }
   ],
   "source": [
    "len('JOCILIA CAROLINA C SANTOS')"
   ]
  },
  {
   "cell_type": "code",
   "execution_count": 8,
   "id": "8cc8bd50-19ca-415f-984e-3aa89158e7e2",
   "metadata": {},
   "outputs": [
    {
     "name": "stdout",
     "output_type": "stream",
     "text": [
      "17 OLIVEIRADOSSANTOS\n",
      "13 CLAUDIMERISON\n",
      "13 BAPTISTELLINE\n",
      "12 VASCONCELLOS\n",
      "12 SANTAMARINHA\n"
     ]
    }
   ],
   "source": [
    "maior = 12\n",
    "achados = set()\n",
    "for nome in linhas[:1000]:\n",
    "    partes = nome.split()\n",
    "    tamanhos = {len(p): p for p in partes}\n",
    "    grande = max(tamanhos)\n",
    "    if grande >= maior:  # empate também vale registrar\n",
    "        #maior = grande\n",
    "        achados.add((grande, tamanhos[grande]))\n",
    "\n",
    "for tam, nome in sorted(achados, reverse=True):\n",
    "    print(tam, nome)"
   ]
  },
  {
   "cell_type": "code",
   "execution_count": 9,
   "id": "74d7cced-f3ec-4460-a46b-618041a7177f",
   "metadata": {},
   "outputs": [
    {
     "data": {
      "text/plain": [
       "27"
      ]
     },
     "execution_count": 9,
     "metadata": {},
     "output_type": "execute_result"
    }
   ],
   "source": [
    "len('BELARMINONDAS FRANCISQUETTO')\n"
   ]
  },
  {
   "cell_type": "code",
   "execution_count": 10,
   "id": "239a8a2f-dd15-4fd2-a7c3-b61194119d51",
   "metadata": {},
   "outputs": [
    {
     "name": "stdout",
     "output_type": "stream",
     "text": [
      "17 Kaminishikawahara\n",
      "16 Leistenschneider\n",
      "15 Anagnostopoulos\n",
      "15 Belapetravicius\n",
      "15 Chigachiaraguti\n",
      "15 Christofolletti\n",
      "15 Franceschinelli\n",
      "15 Franciscangelis\n",
      "15 Francischinelli\n",
      "15 Lacastagneratte\n",
      "15 Laustenschlager\n",
      "15 Lautenschlaeger\n",
      "15 Mastrofrancisco\n",
      "15 Papaphilippakis\n",
      "15 Papaspiropoulos\n",
      "15 Paraskevopoulos\n",
      "15 Quartiermeister\n",
      "15 Schallenmueller\n",
      "15 Schrijnemaekers\n",
      "15 Vogtmannsberger\n"
     ]
    }
   ],
   "source": [
    "with open('amostras/nomes-reais.txt') as fp:\n",
    "    linhas = fp.readlines()\n",
    "\n",
    "# print(len(linhas), 'linhas lidas')\n",
    "\n",
    "longos = set()\n",
    "grande = 15\n",
    "for linha in (l.strip() for l in linhas):\n",
    "    partes = linha.split()\n",
    "    for parte in partes:\n",
    "        if len(parte) >= grande:\n",
    "            longos.add((-len(parte), parte))\n",
    "\n",
    "for tam, nome in sorted(longos):\n",
    "    print(-tam, nome)"
   ]
  },
  {
   "cell_type": "code",
   "execution_count": null,
   "id": "9e899956-ba98-43b0-92d1-5d2aba48297c",
   "metadata": {},
   "outputs": [],
   "source": []
  }
 ],
 "metadata": {
  "kernelspec": {
   "display_name": "Python 3 (ipykernel)",
   "language": "python",
   "name": "python3"
  },
  "language_info": {
   "codemirror_mode": {
    "name": "ipython",
    "version": 3
   },
   "file_extension": ".py",
   "mimetype": "text/x-python",
   "name": "python",
   "nbconvert_exporter": "python",
   "pygments_lexer": "ipython3",
   "version": "3.13.2"
  }
 },
 "nbformat": 4,
 "nbformat_minor": 5
}
